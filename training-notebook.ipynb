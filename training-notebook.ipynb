{
 "cells": [
  {
   "cell_type": "markdown",
   "metadata": {},
   "source": [
    "# Notebook training"
   ]
  },
  {
   "cell_type": "markdown",
   "metadata": {},
   "source": [
    "## Step 0 import dependencies"
   ]
  },
  {
   "cell_type": "code",
   "execution_count": 1497,
   "metadata": {},
   "outputs": [
    {
     "name": "stdout",
     "output_type": "stream",
     "text": [
      "Requirement already satisfied: attrs==19.3.0 in /home/mattia/anaconda3/lib/python3.7/site-packages (from -r requirements.txt (line 1)) (19.3.0)\n",
      "Requirement already satisfied: backcall==0.1.0 in /home/mattia/anaconda3/lib/python3.7/site-packages (from -r requirements.txt (line 2)) (0.1.0)\n",
      "Requirement already satisfied: bleach==3.1.4 in /home/mattia/anaconda3/lib/python3.7/site-packages (from -r requirements.txt (line 3)) (3.1.4)\n",
      "Requirement already satisfied: certifi==2020.4.5.1 in /home/mattia/anaconda3/lib/python3.7/site-packages (from -r requirements.txt (line 4)) (2020.4.5.1)\n",
      "Requirement already satisfied: decorator==4.4.2 in /home/mattia/anaconda3/lib/python3.7/site-packages (from -r requirements.txt (line 5)) (4.4.2)\n",
      "Requirement already satisfied: defusedxml==0.6.0 in /home/mattia/anaconda3/lib/python3.7/site-packages (from -r requirements.txt (line 6)) (0.6.0)\n",
      "Requirement already satisfied: entrypoints==0.3 in /home/mattia/anaconda3/lib/python3.7/site-packages (from -r requirements.txt (line 7)) (0.3)\n",
      "Requirement already satisfied: importlib-metadata==1.6.0 in /home/mattia/anaconda3/lib/python3.7/site-packages (from -r requirements.txt (line 8)) (1.6.0)\n",
      "Requirement already satisfied: ipykernel==5.1.4 in /home/mattia/anaconda3/lib/python3.7/site-packages (from -r requirements.txt (line 9)) (5.1.4)\n",
      "Requirement already satisfied: ipython==7.13.0 in /home/mattia/anaconda3/lib/python3.7/site-packages (from -r requirements.txt (line 10)) (7.13.0)\n",
      "Requirement already satisfied: ipython-genutils==0.2.0 in /home/mattia/anaconda3/lib/python3.7/site-packages (from -r requirements.txt (line 11)) (0.2.0)\n",
      "Requirement already satisfied: jedi==0.17.0 in /home/mattia/anaconda3/lib/python3.7/site-packages (from -r requirements.txt (line 12)) (0.17.0)\n",
      "Requirement already satisfied: Jinja2==2.11.2 in /home/mattia/anaconda3/lib/python3.7/site-packages (from -r requirements.txt (line 13)) (2.11.2)\n",
      "Requirement already satisfied: jsonschema==3.2.0 in /home/mattia/anaconda3/lib/python3.7/site-packages (from -r requirements.txt (line 14)) (3.2.0)\n",
      "Requirement already satisfied: jupyter-client==6.1.3 in /home/mattia/anaconda3/lib/python3.7/site-packages (from -r requirements.txt (line 15)) (6.1.3)\n",
      "Requirement already satisfied: jupyter-core==4.6.3 in /home/mattia/anaconda3/lib/python3.7/site-packages (from -r requirements.txt (line 16)) (4.6.3)\n",
      "Requirement already satisfied: MarkupSafe==1.1.1 in /home/mattia/anaconda3/lib/python3.7/site-packages (from -r requirements.txt (line 17)) (1.1.1)\n",
      "Requirement already satisfied: mistune==0.8.4 in /home/mattia/anaconda3/lib/python3.7/site-packages (from -r requirements.txt (line 18)) (0.8.4)\n",
      "Requirement already satisfied: nbconvert==5.6.1 in /home/mattia/anaconda3/lib/python3.7/site-packages (from -r requirements.txt (line 19)) (5.6.1)\n",
      "Requirement already satisfied: nbformat==5.0.6 in /home/mattia/anaconda3/lib/python3.7/site-packages (from -r requirements.txt (line 20)) (5.0.6)\n",
      "Requirement already satisfied: notebook==6.0.3 in /home/mattia/anaconda3/lib/python3.7/site-packages (from -r requirements.txt (line 21)) (6.0.3)\n",
      "Requirement already satisfied: pandocfilters==1.4.2 in /home/mattia/anaconda3/lib/python3.7/site-packages (from -r requirements.txt (line 22)) (1.4.2)\n",
      "Requirement already satisfied: parso==0.7.0 in /home/mattia/anaconda3/lib/python3.7/site-packages (from -r requirements.txt (line 23)) (0.7.0)\n",
      "Requirement already satisfied: pexpect==4.8.0 in /home/mattia/anaconda3/lib/python3.7/site-packages (from -r requirements.txt (line 24)) (4.8.0)\n",
      "Requirement already satisfied: pickleshare==0.7.5 in /home/mattia/anaconda3/lib/python3.7/site-packages (from -r requirements.txt (line 25)) (0.7.5)\n",
      "Requirement already satisfied: prometheus-client==0.7.1 in /home/mattia/anaconda3/lib/python3.7/site-packages (from -r requirements.txt (line 26)) (0.7.1)\n",
      "Requirement already satisfied: prompt-toolkit==3.0.5 in /home/mattia/anaconda3/lib/python3.7/site-packages (from -r requirements.txt (line 27)) (3.0.5)\n",
      "Requirement already satisfied: ptyprocess==0.6.0 in /home/mattia/anaconda3/lib/python3.7/site-packages (from -r requirements.txt (line 28)) (0.6.0)\n",
      "Requirement already satisfied: Pygments==2.6.1 in /home/mattia/anaconda3/lib/python3.7/site-packages (from -r requirements.txt (line 29)) (2.6.1)\n",
      "Requirement already satisfied: pyrsistent==0.16.0 in /home/mattia/anaconda3/lib/python3.7/site-packages (from -r requirements.txt (line 30)) (0.16.0)\n",
      "Requirement already satisfied: python-dateutil==2.8.1 in /home/mattia/anaconda3/lib/python3.7/site-packages (from -r requirements.txt (line 31)) (2.8.1)\n",
      "Requirement already satisfied: pyzmq==18.1.1 in /home/mattia/anaconda3/lib/python3.7/site-packages (from -r requirements.txt (line 32)) (18.1.1)\n",
      "Requirement already satisfied: Send2Trash==1.5.0 in /home/mattia/anaconda3/lib/python3.7/site-packages (from -r requirements.txt (line 33)) (1.5.0)\n",
      "Requirement already satisfied: six==1.15.0 in /home/mattia/anaconda3/lib/python3.7/site-packages (from -r requirements.txt (line 34)) (1.15.0)\n",
      "Requirement already satisfied: terminado==0.8.3 in /home/mattia/anaconda3/lib/python3.7/site-packages (from -r requirements.txt (line 35)) (0.8.3)\n",
      "Requirement already satisfied: testpath==0.4.4 in /home/mattia/anaconda3/lib/python3.7/site-packages (from -r requirements.txt (line 36)) (0.4.4)\n",
      "Requirement already satisfied: tornado==6.0.4 in /home/mattia/anaconda3/lib/python3.7/site-packages (from -r requirements.txt (line 37)) (6.0.4)\n",
      "Requirement already satisfied: traitlets==4.3.3 in /home/mattia/anaconda3/lib/python3.7/site-packages (from -r requirements.txt (line 38)) (4.3.3)\n",
      "Requirement already satisfied: wcwidth==0.1.9 in /home/mattia/anaconda3/lib/python3.7/site-packages (from -r requirements.txt (line 39)) (0.1.9)\n",
      "Requirement already satisfied: webencodings==0.5.1 in /home/mattia/anaconda3/lib/python3.7/site-packages (from -r requirements.txt (line 40)) (0.5.1)\n",
      "Requirement already satisfied: zipp==3.1.0 in /home/mattia/anaconda3/lib/python3.7/site-packages (from -r requirements.txt (line 41)) (3.1.0)\n",
      "Requirement already satisfied: setuptools>=18.5 in /home/mattia/anaconda3/lib/python3.7/site-packages (from ipython==7.13.0->-r requirements.txt (line 10)) (45.2.0.post20200210)\n"
     ]
    }
   ],
   "source": [
    "!pip install -r requirements.txt"
   ]
  },
  {
   "cell_type": "code",
   "execution_count": 1498,
   "metadata": {},
   "outputs": [],
   "source": [
    "import pandas as pd\n",
    "import matplotlib.pyplot as plt \n",
    "import seaborn as sns\n",
    "from sklearn.model_selection import train_test_split\n",
    "from sklearn.ensemble import RandomForestClassifier\n",
    "from sklearn.linear_model import LogisticRegression\n",
    "from sklearn.neighbors import KNeighborsClassifier\n",
    "import sklearn.metrics as metrics\n",
    "from sklearn.preprocessing import LabelEncoder\n",
    "import numpy as np\n",
    "from sklearn.tree import DecisionTreeClassifier"
   ]
  },
  {
   "cell_type": "markdown",
   "metadata": {},
   "source": [
    "## Step 1 caricamento dati"
   ]
  },
  {
   "cell_type": "code",
   "execution_count": 1499,
   "metadata": {},
   "outputs": [],
   "source": [
    "path_train = './train.csv'\n",
    "path_test = './test.csv'\n",
    "train_data = pd.read_csv(path_train)\n",
    "test_data = pd.read_csv(path_test)"
   ]
  },
  {
   "cell_type": "markdown",
   "metadata": {},
   "source": [
    "## Step 2 analisi del dataset"
   ]
  },
  {
   "cell_type": "markdown",
   "metadata": {},
   "source": [
    "### 2.1 Individuazione target minimo"
   ]
  },
  {
   "cell_type": "code",
   "execution_count": 1500,
   "metadata": {},
   "outputs": [
    {
     "data": {
      "text/plain": [
       "No     0.796607\n",
       "Yes    0.203393\n",
       "Name: No-show, dtype: float64"
      ]
     },
     "execution_count": 1500,
     "metadata": {},
     "output_type": "execute_result"
    }
   ],
   "source": [
    "test_data['No-show'].value_counts(normalize = True)"
   ]
  },
  {
   "cell_type": "markdown",
   "metadata": {},
   "source": [
    "Rispondendo tutti \"no\" si raggiunge un accuracy del 79,66% considerando lo sbilanciamento naturale del dataset, l'obiettivo minimo per creare un classificatore sensato è quindi quello di superare questo valore"
   ]
  },
  {
   "cell_type": "markdown",
   "metadata": {},
   "source": [
    "### 2.2 Studio Valori Unici e Ricerca valori nulli"
   ]
  },
  {
   "cell_type": "code",
   "execution_count": 1501,
   "metadata": {},
   "outputs": [
    {
     "data": {
      "text/plain": [
       "PatientId         15311\n",
       "AppointmentID     17685\n",
       "Gender                2\n",
       "ScheduledDay      17461\n",
       "AppointmentDay       27\n",
       "Age                 102\n",
       "Neighbourhood        78\n",
       "Scholarship           2\n",
       "Hipertension          2\n",
       "Diabetes              2\n",
       "Alcoholism            2\n",
       "Handcap               4\n",
       "SMS_received          2\n",
       "No-show               2\n",
       "dtype: int64"
      ]
     },
     "execution_count": 1501,
     "metadata": {},
     "output_type": "execute_result"
    }
   ],
   "source": [
    "test_data.nunique()"
   ]
  },
  {
   "cell_type": "code",
   "execution_count": 1502,
   "metadata": {},
   "outputs": [
    {
     "name": "stdout",
     "output_type": "stream",
     "text": [
      "<class 'pandas.core.frame.DataFrame'>\n",
      "RangeIndex: 70736 entries, 0 to 70735\n",
      "Data columns (total 14 columns):\n",
      " #   Column          Non-Null Count  Dtype  \n",
      "---  ------          --------------  -----  \n",
      " 0   PatientId       70736 non-null  float64\n",
      " 1   AppointmentID   70736 non-null  int64  \n",
      " 2   Gender          70736 non-null  object \n",
      " 3   ScheduledDay    70736 non-null  object \n",
      " 4   AppointmentDay  70736 non-null  object \n",
      " 5   Age             70736 non-null  int64  \n",
      " 6   Neighbourhood   70736 non-null  object \n",
      " 7   Scholarship     70736 non-null  int64  \n",
      " 8   Hipertension    70736 non-null  int64  \n",
      " 9   Diabetes        70736 non-null  int64  \n",
      " 10  Alcoholism      70736 non-null  int64  \n",
      " 11  Handcap         70736 non-null  int64  \n",
      " 12  SMS_received    70736 non-null  int64  \n",
      " 13  No-show         70736 non-null  object \n",
      "dtypes: float64(1), int64(8), object(5)\n",
      "memory usage: 7.6+ MB\n"
     ]
    }
   ],
   "source": [
    "train_data.info()"
   ]
  },
  {
   "cell_type": "markdown",
   "metadata": {},
   "source": [
    "Sembra che non ci siano valori nullli"
   ]
  },
  {
   "cell_type": "code",
   "execution_count": 1503,
   "metadata": {},
   "outputs": [
    {
     "name": "stdout",
     "output_type": "stream",
     "text": [
      "PatientId [8.14723888e+14 2.88198615e+14 6.44899846e+13 ... 6.83862113e+13\n",
      " 1.56651126e+12 4.64591132e+13]\n",
      "AppointmentID [5648764 5679673 5522771 ... 5623378 5751411 5696925]\n",
      "Gender ['F' 'M']\n",
      "ScheduledDay ['2016-05-02T16:30:07Z' '2016-05-10T10:18:20Z' '2016-03-29T15:06:50Z' ...\n",
      " '2016-04-26T13:59:09Z' '2016-05-31T10:05:14Z' '2016-05-13T14:38:50Z']\n",
      "AppointmentDay ['2016-05-05T00:00:00Z' '2016-05-13T00:00:00Z' '2016-05-10T00:00:00Z'\n",
      " '2016-05-20T00:00:00Z' '2016-05-30T00:00:00Z' '2016-05-17T00:00:00Z'\n",
      " '2016-05-19T00:00:00Z' '2016-06-01T00:00:00Z' '2016-05-11T00:00:00Z'\n",
      " '2016-05-24T00:00:00Z' '2016-06-08T00:00:00Z' '2016-06-03T00:00:00Z'\n",
      " '2016-05-03T00:00:00Z' '2016-05-09T00:00:00Z' '2016-05-02T00:00:00Z'\n",
      " '2016-06-02T00:00:00Z' '2016-06-07T00:00:00Z' '2016-04-29T00:00:00Z'\n",
      " '2016-05-18T00:00:00Z' '2016-05-31T00:00:00Z' '2016-05-16T00:00:00Z'\n",
      " '2016-05-04T00:00:00Z' '2016-06-06T00:00:00Z' '2016-05-06T00:00:00Z'\n",
      " '2016-05-12T00:00:00Z' '2016-05-25T00:00:00Z' '2016-05-14T00:00:00Z']\n",
      "Age [ 22  79   0  50  15  56  64   1  19  91  54  16   8   6  32  40   7  62\n",
      "  45   9  63  18  52  72  49  53  57  30  37  39  65  14   2  10  31  51\n",
      "  55  23   3  25  20  13  67  27  61  33  29  59  38   5  34  21  74  58\n",
      "  36  44  43   4  35  60  69  26  48  66  46  71  24  17  47  12  28  11\n",
      "  89  41  75  83  42  70  90  76  73  77  80  78  84  88  68  86  92  87\n",
      "  82 115  81  93  85  95  97  98  94  96 100  99]\n",
      "Neighbourhood ['MARIA ORTIZ' 'CONSOLAÇÃO' 'JESUS DE NAZARETH' 'BARRO VERMELHO'\n",
      " 'ANDORINHAS' 'SANTO ANTÔNIO' 'SÃO PEDRO' 'RESISTÊNCIA' 'CENTRO'\n",
      " 'JARDIM CAMBURI' 'JABOUR' 'SANTA MARTHA' 'FORTE SÃO JOÃO' 'ITARARÉ'\n",
      " 'ILHA DAS CAIEIRAS' 'JOANA D´ARC' 'GRANDE VITÓRIA' 'TABUAZEIRO'\n",
      " 'NOVA PALESTINA' 'SANTA LUÍZA' 'VILA RUBIM' 'JARDIM DA PENHA'\n",
      " 'PRAIA DO CANTO' 'SÃO CRISTÓVÃO' 'DE LOURDES' 'ILHA DO PRÍNCIPE'\n",
      " 'MATA DA PRAIA' 'GURIGICA' 'DA PENHA' 'CRUZAMENTO' 'CARATOÍRA'\n",
      " 'ILHA DE SANTA MARIA' 'SÃO JOSÉ' 'BELA VISTA' 'BONFIM' 'PIEDADE'\n",
      " 'COMDUSA' 'DO CABRAL' 'SANTOS REIS' 'SÃO BENEDITO' 'BENTO FERREIRA'\n",
      " 'SANTA LÚCIA' 'CONQUISTA' 'SANTA TEREZA' 'PRAIA DO SUÁ' 'ESTRELINHA'\n",
      " 'INHANGUETÁ' 'REPÚBLICA' 'FONTE GRANDE' 'SOLON BORGES' 'DO QUADRO'\n",
      " 'PARQUE MOSCOSO' 'MONTE BELO' 'SANTO ANDRÉ' 'HORTO' 'ROMÃO'\n",
      " 'ANTÔNIO HONÓRIO' 'ENSEADA DO SUÁ' 'SANTOS DUMONT' 'SANTA HELENA'\n",
      " 'MARUÍPE' 'GOIABEIRAS' 'REDENÇÃO' 'SANTA CLARA' 'SANTA CECÍLIA'\n",
      " 'MORADA DE CAMBURI' 'NAZARETH' 'FRADINHOS' 'JUCUTUQUARA' 'UNIVERSITÁRIO'\n",
      " 'BOA VISTA' 'SEGURANÇA DO LAR' 'ARIOVALDO FAVALESSA' 'DO MOSCOSO'\n",
      " 'MÁRIO CYPRESTE' 'ILHA DO BOI' 'PONTAL DE CAMBURI' 'AEROPORTO'\n",
      " 'ILHA DO FRADE' 'PARQUE INDUSTRIAL' 'ILHAS OCEÂNICAS DE TRINDADE']\n",
      "Scholarship [0 1]\n",
      "Hipertension [0 1]\n",
      "Diabetes [0 1]\n",
      "Alcoholism [0 1]\n",
      "Handcap [0 1 2 4 3]\n",
      "SMS_received [0 1]\n",
      "No-show ['No' 'Yes']\n"
     ]
    }
   ],
   "source": [
    "for col in train_data.columns:\n",
    "    print(col,train_data[col].unique())"
   ]
  },
  {
   "cell_type": "markdown",
   "metadata": {},
   "source": [
    "### 2.2.1 Provo a capire se i valori Age=0 siano dei valori jolly o indichino effettivamente dei neonati"
   ]
  },
  {
   "cell_type": "code",
   "execution_count": 1504,
   "metadata": {},
   "outputs": [
    {
     "name": "stdout",
     "output_type": "stream",
     "text": [
      "Pazienti con 'Age' pari a 0 sono 2237\n",
      "Quanti sono i pazienti con 0 di età e che hanno malattie tipiche degli adulti:\n"
     ]
    },
    {
     "data": {
      "text/plain": [
       "0"
      ]
     },
     "execution_count": 1504,
     "metadata": {},
     "output_type": "execute_result"
    }
   ],
   "source": [
    "print(\"Pazienti con 'Age' pari a 0 sono {}\".format(train_data[train_data.Age == 0].shape[0]))\n",
    "print(\"Quanti sono i pazienti con 0 di età e che hanno malattie tipiche degli adulti:\")\n",
    "train_data[(train_data.Age == 0) & ((train_data.Hipertension.astype(int) == 1) | (train_data.Diabetes.astype(int) == 1) | (train_data.Alcoholism.astype(int) == 1))].shape[0]"
   ]
  },
  {
   "cell_type": "markdown",
   "metadata": {},
   "source": [
    "Visto che non ce ne è nemmeno uno che abbia malattie tipiche degli adulti si può ipotizzare che siano effettivamente dei neonati."
   ]
  },
  {
   "cell_type": "markdown",
   "metadata": {},
   "source": [
    "## 2.3 Studio feature ScheduleDay e AppointmentDay"
   ]
  },
  {
   "cell_type": "markdown",
   "metadata": {},
   "source": [
    "## 2.3.1 Cast a datetime di Schedule e Appointment day visti i valori che assumono "
   ]
  },
  {
   "cell_type": "markdown",
   "metadata": {},
   "source": [
    "Le date di appointmentDay sono tutte consecutive e relative all'intero mese di maggio con pochi giorni di fine aprile e di inizio giugno. ScheduledDay si sviluppa lungo un intervallo temporale di circa 8 mesi."
   ]
  },
  {
   "cell_type": "code",
   "execution_count": 1505,
   "metadata": {},
   "outputs": [
    {
     "name": "stdout",
     "output_type": "stream",
     "text": [
      "<class 'pandas.core.frame.DataFrame'>\n",
      "RangeIndex: 70736 entries, 0 to 70735\n",
      "Data columns (total 14 columns):\n",
      " #   Column          Non-Null Count  Dtype         \n",
      "---  ------          --------------  -----         \n",
      " 0   PatientId       70736 non-null  float64       \n",
      " 1   AppointmentID   70736 non-null  int64         \n",
      " 2   Gender          70736 non-null  object        \n",
      " 3   ScheduledDay    70736 non-null  datetime64[ns]\n",
      " 4   AppointmentDay  70736 non-null  datetime64[ns]\n",
      " 5   Age             70736 non-null  int64         \n",
      " 6   Neighbourhood   70736 non-null  object        \n",
      " 7   Scholarship     70736 non-null  int64         \n",
      " 8   Hipertension    70736 non-null  int64         \n",
      " 9   Diabetes        70736 non-null  int64         \n",
      " 10  Alcoholism      70736 non-null  int64         \n",
      " 11  Handcap         70736 non-null  int64         \n",
      " 12  SMS_received    70736 non-null  int64         \n",
      " 13  No-show         70736 non-null  object        \n",
      "dtypes: datetime64[ns](2), float64(1), int64(8), object(3)\n",
      "memory usage: 7.6+ MB\n"
     ]
    }
   ],
   "source": [
    "train_data['ScheduledDay'] = pd.to_datetime(train_data['ScheduledDay']).dt.date.astype('datetime64[ns]')\n",
    "test_data['ScheduledDay'] = pd.to_datetime(test_data['ScheduledDay']).dt.date.astype('datetime64[ns]')\n",
    "train_data['AppointmentDay'] = pd.to_datetime(train_data['AppointmentDay']).dt.date.astype('datetime64[ns]')\n",
    "test_data['AppointmentDay'] = pd.to_datetime(test_data['AppointmentDay']).dt.date.astype('datetime64[ns]')\n",
    "train_data.info()"
   ]
  },
  {
   "cell_type": "markdown",
   "metadata": {},
   "source": [
    "Gli schedule day hanno anche l'informazione sulla data che invece è omessa negli AppointmentDay"
   ]
  },
  {
   "cell_type": "code",
   "execution_count": 1506,
   "metadata": {},
   "outputs": [
    {
     "name": "stdout",
     "output_type": "stream",
     "text": [
      "Valori unici in `ScheduledDay` -> ['2015-11-10' '2015-12-03' '2015-12-07' '2015-12-08' '2015-12-14'\n",
      " '2015-12-15' '2016-01-04' '2016-01-05' '2016-01-07' '2016-01-11'\n",
      " '2016-01-13' '2016-01-14' '2016-01-20' '2016-01-21' '2016-01-22'\n",
      " '2016-01-25' '2016-01-26' '2016-01-29' '2016-02-01' '2016-02-02'\n",
      " '2016-02-03' '2016-02-04' '2016-02-05' '2016-02-11' '2016-02-12'\n",
      " '2016-02-15' '2016-02-16' '2016-02-17' '2016-02-18' '2016-02-19'\n",
      " '2016-02-22' '2016-02-23' '2016-02-24' '2016-02-25' '2016-02-26'\n",
      " '2016-02-29' '2016-03-01' '2016-03-02' '2016-03-03' '2016-03-04'\n",
      " '2016-03-05' '2016-03-07' '2016-03-08' '2016-03-09' '2016-03-10'\n",
      " '2016-03-11' '2016-03-14' '2016-03-15' '2016-03-16' '2016-03-17'\n",
      " '2016-03-18' '2016-03-19' '2016-03-21' '2016-03-22' '2016-03-23'\n",
      " '2016-03-28' '2016-03-29' '2016-03-30' '2016-03-31' '2016-04-01'\n",
      " '2016-04-05' '2016-04-06' '2016-04-07' '2016-04-08' '2016-04-09'\n",
      " '2016-04-11' '2016-04-12' '2016-04-13' '2016-04-14' '2016-04-15'\n",
      " '2016-04-16' '2016-04-18' '2016-04-19' '2016-04-20' '2016-04-25'\n",
      " '2016-04-26' '2016-04-27' '2016-04-28' '2016-04-29' '2016-04-30'\n",
      " '2016-05-02' '2016-05-03' '2016-05-04' '2016-05-05' '2016-05-06'\n",
      " '2016-05-07' '2016-05-09' '2016-05-10' '2016-05-11' '2016-05-12'\n",
      " '2016-05-13' '2016-05-14' '2016-05-16' '2016-05-17' '2016-05-18'\n",
      " '2016-05-19' '2016-05-20' '2016-05-24' '2016-05-25' '2016-05-30'\n",
      " '2016-05-31' '2016-06-01' '2016-06-02' '2016-06-03' '2016-06-06'\n",
      " '2016-06-07' '2016-06-08']\n"
     ]
    }
   ],
   "source": [
    "print(\"Valori unici in `ScheduledDay` -> {}\".format(np.sort(train_data.ScheduledDay.dt.strftime('%Y-%m-%d').unique())))"
   ]
  },
  {
   "cell_type": "code",
   "execution_count": 1507,
   "metadata": {},
   "outputs": [
    {
     "name": "stdout",
     "output_type": "stream",
     "text": [
      "Valori unici in `AppointmentDay` -> ['2016-04-29' '2016-05-02' '2016-05-03' '2016-05-04' '2016-05-05'\n",
      " '2016-05-06' '2016-05-09' '2016-05-10' '2016-05-11' '2016-05-12'\n",
      " '2016-05-13' '2016-05-14' '2016-05-16' '2016-05-17' '2016-05-18'\n",
      " '2016-05-19' '2016-05-20' '2016-05-24' '2016-05-25' '2016-05-30'\n",
      " '2016-05-31' '2016-06-01' '2016-06-02' '2016-06-03' '2016-06-06'\n",
      " '2016-06-07' '2016-06-08']\n"
     ]
    }
   ],
   "source": [
    "print(\"Valori unici in `AppointmentDay` -> {}\".format(np.sort(train_data.AppointmentDay.dt.strftime('%Y-%m-%d').unique())))"
   ]
  },
  {
   "cell_type": "markdown",
   "metadata": {},
   "source": [
    "### 2.3.2 Feature Engineering 'giorniAlAppuntamento'"
   ]
  },
  {
   "cell_type": "markdown",
   "metadata": {},
   "source": [
    "Visto che gli scheduledDay hanno valori praticamente tutti diversi (essendo differenziati anche per l'ora) creo una nuova feature \"giorniAlAppuntamento\", che rappresenta la differenza tra il giorno dell'appuntamento e lil giorno della sua registrazione, sotto l'ipotesi che sicuramente appuntamenti presi lo stesso giorno o poco prima abbiano una probabilità di presentarsi sicuramente maggiore.Sarà comunque verificata l'ipotesi e rafforzata dall'analisi dei dati in seguito."
   ]
  },
  {
   "cell_type": "code",
   "execution_count": 1508,
   "metadata": {},
   "outputs": [],
   "source": [
    "giorniAlAppuntamento_train = train_data.AppointmentDay - train_data.ScheduledDay\n",
    "giorniAlAppuntamento_train = giorniAlAppuntamento_train.apply(lambda x: x.total_seconds() / (3600 * 24))\n",
    "\n",
    "giorniAlAppuntamento_test = test_data.AppointmentDay - test_data.ScheduledDay\n",
    "giorniAlAppuntamento_test = giorniAlAppuntamento_test.apply(lambda x: x.total_seconds() / (3600 * 24))\n",
    "\n",
    "train_data = pd.concat([train_data, giorniAlAppuntamento_train], axis = 1)\n",
    "test_data = pd.concat([test_data, giorniAlAppuntamento_test], axis = 1)\n",
    "\n",
    "train_data.rename(inplace = True, mapper = {0: 'giorniAlAppuntamento'},axis = 1)\n",
    "test_data.rename(inplace = True, mapper = {0: 'giorniAlAppuntamento'},axis = 1)\n",
    "\n",
    "train_data = train_data.drop(['ScheduledDay'], axis = 1, inplace = False)\n",
    "test_data = test_data.drop(['ScheduledDay'], axis = 1, inplace = False)\n",
    "\n",
    "train_data = train_data.drop(['AppointmentDay'], axis = 1, inplace = False)\n",
    "test_data = test_data.drop(['AppointmentDay'], axis = 1, inplace = False)"
   ]
  },
  {
   "cell_type": "code",
   "execution_count": 1509,
   "metadata": {},
   "outputs": [
    {
     "data": {
      "text/plain": [
       "array([  3.,  42.,   0.,  17.,  46.,  22.,  33.,   2.,  25.,  23.,   4.,\n",
       "        18.,  10.,   6.,   9.,  64.,   1.,  13.,  14.,  30.,  27.,   7.,\n",
       "        11.,  63.,  85.,  65.,  28.,  36.,  38.,   5.,   8.,  31.,  16.,\n",
       "        12.,  43.,  32.,  29.,  26.,  24.,  15.,  21.,  19.,  34.,  45.,\n",
       "        72.,  37.,  67.,  40.,  20.,  35.,  69.,  61.,  49.,  84.,  58.,\n",
       "        41.,  53.,  44.,  50., 162.,  59.,  52.,  39., 142.,  79.,  90.,\n",
       "        54.,  91.,  74.,  48., 111.,  60.,  66.,  76.,  62.,  70.,  56.,\n",
       "        55.,  51.,  75.,  83.,  57.,  47.,  95.,  71.,  88.,  68., 109.,\n",
       "       176.,  77., 108.,  78.,  80., 133., 126.,  73., 169., 112.,  98.,\n",
       "       155.,  -1.,  82.,  87., 119., 104.,  86.,  89., 122.,  81., 103.,\n",
       "       179.,  92., 115.,  93., 151.,  96., 132.,  -6., 110., 107., 105.,\n",
       "       101., 146.,  94., 102., 125.])"
      ]
     },
     "execution_count": 1509,
     "metadata": {},
     "output_type": "execute_result"
    }
   ],
   "source": [
    "train_data.giorniAlAppuntamento.unique()"
   ]
  },
  {
   "cell_type": "code",
   "execution_count": 1510,
   "metadata": {},
   "outputs": [],
   "source": [
    "train_data.drop(train_data[train_data.giorniAlAppuntamento < 0].index, inplace = True)\n",
    "test_data.drop(test_data[test_data.giorniAlAppuntamento < 0].index, inplace = True)"
   ]
  },
  {
   "cell_type": "markdown",
   "metadata": {},
   "source": [
    "### 2.3.3 Studio andamento della feature appena creata"
   ]
  },
  {
   "cell_type": "code",
   "execution_count": 1511,
   "metadata": {},
   "outputs": [],
   "source": [
    "def probNoShow(dataset, group_by):\n",
    "    df = pd.crosstab(index = dataset[group_by], columns = dataset['No-show']).reset_index()\n",
    "    df['probNoShow'] = df['No'] / (df['No'] + df['Yes'])\n",
    "    return df[[group_by, 'probNoShow']]"
   ]
  },
  {
   "cell_type": "code",
   "execution_count": 1512,
   "metadata": {},
   "outputs": [
    {
     "data": {
      "image/png": "[encoded data removed]",
      "text/plain": [
       "<Figure size 360x360 with 1 Axes>"
      ]
     },
     "metadata": {
      "needs_background": "light"
     },
     "output_type": "display_data"
    }
   ],
   "source": [
    "sns.lmplot(data = probNoShow(train_data, 'giorniAlAppuntamento'), x = 'giorniAlAppuntamento', \n",
    "           y = 'probNoShow', fit_reg = True)\n",
    "plt.xlim(0, 180)\n",
    "plt.title('Probabilità del No-Show relativo a giorniAlAppuntamento')\n",
    "plt.show()"
   ]
  },
  {
   "cell_type": "markdown",
   "metadata": {},
   "source": [
    "Come sospettato la feature creata risulta essere significativa sopratutto per una differenza molto bassa o prossima allo 0. Si registra anche un aumento di nuovo della probabilità di show dopo attese molto lunghe (superiori agli 80 giorni)"
   ]
  },
  {
   "cell_type": "markdown",
   "metadata": {},
   "source": [
    "### 2.3.4 Trasformazione della feature in categorica (suddivisione in fasce)"
   ]
  },
  {
   "cell_type": "code",
   "execution_count": 1513,
   "metadata": {},
   "outputs": [],
   "source": [
    "def appointment_div_cat(dataset) :\n",
    "    if dataset['giorniAlAppuntamento'] <= 0 :\n",
    "        return \"StessoGiorno\"\n",
    "    elif (dataset['giorniAlAppuntamento'] > 0) & (dataset['giorniAlAppuntamento'] <= 5 ):\n",
    "        return \"Pochi giorni dopo\"\n",
    "    elif (dataset['giorniAlAppuntamento'] > 5) & (dataset['giorniAlAppuntamento'] <= 80) :\n",
    "        return \"Fino a 3 mesi dopo\"\n",
    "    elif (dataset['giorniAlAppuntamento'] > 80):\n",
    "        return \"Dopo 3 mesi\"\n",
    "train_data['giorniAlAppuntamentoCategorical'] = train_data.apply(lambda dataset:appointment_div_cat(dataset),axis = 1)\n",
    "test_data['giorniAlAppuntamentoCategorical'] = test_data.apply(lambda dataset:appointment_div_cat(dataset),axis = 1)\n",
    "# Colonne vecchie ormai non più utili\n",
    "train_data = train_data.drop(columns=['giorniAlAppuntamento'])\n",
    "test_data = test_data.drop(columns=['giorniAlAppuntamento'])"
   ]
  },
  {
   "cell_type": "code",
   "execution_count": 1514,
   "metadata": {},
   "outputs": [
    {
     "data": {
      "text/plain": [
       "4"
      ]
     },
     "execution_count": 1514,
     "metadata": {},
     "output_type": "execute_result"
    }
   ],
   "source": [
    "train_data['giorniAlAppuntamentoCategorical'].nunique()"
   ]
  },
  {
   "cell_type": "markdown",
   "metadata": {},
   "source": [
    "Dopo numerose prove la suddivisione in fasce della feature (rispecchiando gli andamenti) è risultata migliore rispetto all'utilizzo della feature come valore numerico continuo."
   ]
  },
  {
   "cell_type": "markdown",
   "metadata": {},
   "source": [
    "### 2.4 Drop degli identificatori "
   ]
  },
  {
   "cell_type": "code",
   "execution_count": 1515,
   "metadata": {},
   "outputs": [],
   "source": [
    "train_data.drop(['AppointmentID','PatientId'], axis = 1, inplace = True)\n",
    "test_data.drop(['AppointmentID','PatientId'], axis = 1, inplace = True)"
   ]
  },
  {
   "cell_type": "markdown",
   "metadata": {},
   "source": [
    "Drop degli identificatori in quanto non significativi"
   ]
  },
  {
   "cell_type": "markdown",
   "metadata": {},
   "source": [
    "### 2.5 Studio dell'andamento di Age"
   ]
  },
  {
   "cell_type": "code",
   "execution_count": 1516,
   "metadata": {},
   "outputs": [
    {
     "data": {
      "image/png": "[encoded data removed]",
      "text/plain": [
       "<Figure size 360x360 with 1 Axes>"
      ]
     },
     "metadata": {
      "needs_background": "light"
     },
     "output_type": "display_data"
    }
   ],
   "source": [
    "sns.lmplot(data = probNoShow(train_data, 'Age'), x = 'Age', y = 'probNoShow', fit_reg = True)\n",
    "plt.xlim(0, 105)\n",
    "plt.title('Probabilità del No-Show relativo a Age')\n",
    "plt.show()"
   ]
  },
  {
   "cell_type": "markdown",
   "metadata": {},
   "source": [
    "Come ci si poteva aspettare, vista l'attenzione che si dedica ai bambini, ad età molto basse (<8) la probabilità del noShow scende drasticamente. Scende invece per l'età adolescenziale e i giovani adulti per poi risalire nelle persone anziane. Sembra quindi essere una feature significativa probabilmente ancor di più se distinta in fasce di età distinguendo le fasce dei bambini e degli anziani dal resto (le categorie con lo show più alto)."
   ]
  },
  {
   "cell_type": "markdown",
   "metadata": {},
   "source": [
    "### 2.5.1 Trasformazione di Age in categorica a fasce"
   ]
  },
  {
   "cell_type": "code",
   "execution_count": 1517,
   "metadata": {},
   "outputs": [],
   "source": [
    "def age_div_cat(dataset) :\n",
    "    if dataset['Age'] <= 0 :\n",
    "        return \"Neonati\"\n",
    "    if (dataset['Age'] > 0) & (dataset['Age'] <= 5) :\n",
    "        return \"Bambini\"\n",
    "    elif (dataset['Age'] > 5) & (dataset['Age'] <= 11 ):\n",
    "        return \"Giovani\"\n",
    "    elif (dataset['Age'] > 11) & (dataset['Age'] <= 65) :\n",
    "        return \"Adulti\"\n",
    "    elif (dataset['Age'] > 65):\n",
    "        return \"Anziani\"\n",
    "train_data['AgeCategorical'] = train_data.apply(lambda dataset:age_div_cat(dataset),axis = 1)\n",
    "test_data['AgeCategorical'] = test_data.apply(lambda dataset:age_div_cat(dataset),axis = 1)\n",
    "# Colonne vecchie ormai non più utili\n",
    "train_data = train_data.drop(columns=['Age'])\n",
    "test_data = test_data.drop(columns=['Age'])"
   ]
  },
  {
   "cell_type": "markdown",
   "metadata": {},
   "source": [
    "Come per la feature precedente anche per questa dopo numerose prove è risultato migliore trasformala in una categorica invece di mantenere un valore numerico continuo."
   ]
  },
  {
   "cell_type": "code",
   "execution_count": 1518,
   "metadata": {},
   "outputs": [
    {
     "name": "stdout",
     "output_type": "stream",
     "text": [
      "Number of unique entries by column, in ascending order:\n"
     ]
    },
    {
     "data": {
      "text/plain": [
       "[('Gender', 2),\n",
       " ('No-show', 2),\n",
       " ('giorniAlAppuntamentoCategorical', 4),\n",
       " ('AgeCategorical', 5),\n",
       " ('Neighbourhood', 81)]"
      ]
     },
     "execution_count": 1518,
     "metadata": {},
     "output_type": "execute_result"
    }
   ],
   "source": [
    "# Colonne categoriche\n",
    "object_cols = [col for col in train_data.columns if train_data[col].dtype == \"object\" or train_data[col].dtype == \"datetime64[ns]\"]\n",
    "\n",
    "numerical_cols = [col for col in train_data.columns if train_data[col].dtype == 'int64' \n",
    "                                                          or train_data[col].dtype == 'float64']\n",
    "good_label_cols = [col for col in object_cols if set(train_data[col]) == set(test_data[col])]\n",
    "\n",
    "bad_label_cols = list(set(test_data.columns)-set(good_label_cols)-set(numerical_cols))\n",
    "\n",
    "object_nunique = list(map(lambda col: train_data[col].nunique(), object_cols))\n",
    "d = dict(zip(object_cols, object_nunique))\n",
    "\n",
    "print('Number of unique entries by column, in ascending order:')\n",
    "sorted(d.items(), key=lambda x: x[1])"
   ]
  },
  {
   "cell_type": "markdown",
   "metadata": {},
   "source": [
    "### 2.6 Studio della feature Neighbourhood"
   ]
  },
  {
   "cell_type": "markdown",
   "metadata": {},
   "source": [
    "Provando vari modelli in diverse situazioni la Neighbourhood non è mai risultata incidente, anzi il più delle volte era dannosa. E' stata droppata per questo motivo."
   ]
  },
  {
   "cell_type": "markdown",
   "metadata": {},
   "source": [
    "## Parte di analisi che non sono riuscito a terminare"
   ]
  },
  {
   "cell_type": "markdown",
   "metadata": {},
   "source": [
    "### 2.7 Studio delle feature Diabetes, Hipertension, Handcap e Alcoholism"
   ]
  },
  {
   "cell_type": "code",
   "execution_count": null,
   "metadata": {},
   "outputs": [],
   "source": []
  },
  {
   "cell_type": "markdown",
   "metadata": {},
   "source": [
    "### 2.8 Studio di SMS_received"
   ]
  },
  {
   "cell_type": "code",
   "execution_count": null,
   "metadata": {},
   "outputs": [],
   "source": []
  },
  {
   "cell_type": "markdown",
   "metadata": {},
   "source": [
    "### 2.9 Studio di Scholarship"
   ]
  },
  {
   "cell_type": "code",
   "execution_count": null,
   "metadata": {},
   "outputs": [],
   "source": []
  },
  {
   "cell_type": "markdown",
   "metadata": {},
   "source": [
    "## 3 Suddivisione in X_train, y_train, X_test, y_test"
   ]
  },
  {
   "cell_type": "code",
   "execution_count": 1519,
   "metadata": {},
   "outputs": [
    {
     "name": "stdout",
     "output_type": "stream",
     "text": [
      "<class 'pandas.core.frame.DataFrame'>\n",
      "Int64Index: 70733 entries, 0 to 70735\n",
      "Data columns (total 8 columns):\n",
      " #   Column                           Non-Null Count  Dtype \n",
      "---  ------                           --------------  ----- \n",
      " 0   Gender                           70733 non-null  object\n",
      " 1   Scholarship                      70733 non-null  int64 \n",
      " 2   Hipertension                     70733 non-null  int64 \n",
      " 3   Alcoholism                       70733 non-null  int64 \n",
      " 4   Handcap                          70733 non-null  int64 \n",
      " 5   SMS_received                     70733 non-null  int64 \n",
      " 6   giorniAlAppuntamentoCategorical  70733 non-null  object\n",
      " 7   AgeCategorical                   70733 non-null  object\n",
      "dtypes: int64(5), object(3)\n",
      "memory usage: 4.9+ MB\n"
     ]
    }
   ],
   "source": [
    "y_train = train_data['No-show']\n",
    "X_train = train_data.drop(['No-show','Neighbourhood','Diabetes'], axis = 1, inplace = False)\n",
    "y_test = test_data['No-show']\n",
    "X_test = test_data.drop(['No-show','Neighbourhood','Diabetes'], axis = 1, inplace = False)\n",
    "\n",
    "X_train.info()"
   ]
  },
  {
   "cell_type": "code",
   "execution_count": 1520,
   "metadata": {},
   "outputs": [
    {
     "data": {
      "text/plain": [
       "Gender                             2\n",
       "Scholarship                        2\n",
       "Hipertension                       2\n",
       "Alcoholism                         2\n",
       "Handcap                            5\n",
       "SMS_received                       2\n",
       "giorniAlAppuntamentoCategorical    4\n",
       "AgeCategorical                     5\n",
       "dtype: int64"
      ]
     },
     "execution_count": 1520,
     "metadata": {},
     "output_type": "execute_result"
    }
   ],
   "source": [
    "X_train.nunique()"
   ]
  },
  {
   "cell_type": "markdown",
   "metadata": {},
   "source": [
    "## 4 Encoding"
   ]
  },
  {
   "cell_type": "code",
   "execution_count": 1521,
   "metadata": {},
   "outputs": [
    {
     "name": "stdout",
     "output_type": "stream",
     "text": [
      "<class 'pandas.core.frame.DataFrame'>\n",
      "Int64Index: 17685 entries, 0 to 17684\n",
      "Data columns (total 8 columns):\n",
      " #   Column                           Non-Null Count  Dtype \n",
      "---  ------                           --------------  ----- \n",
      " 0   Gender                           17685 non-null  object\n",
      " 1   Scholarship                      17685 non-null  int64 \n",
      " 2   Hipertension                     17685 non-null  int64 \n",
      " 3   Alcoholism                       17685 non-null  int64 \n",
      " 4   Handcap                          17685 non-null  int64 \n",
      " 5   SMS_received                     17685 non-null  int64 \n",
      " 6   giorniAlAppuntamentoCategorical  17685 non-null  object\n",
      " 7   AgeCategorical                   17685 non-null  object\n",
      "dtypes: int64(5), object(3)\n",
      "memory usage: 1.2+ MB\n"
     ]
    }
   ],
   "source": [
    "X_test.info()"
   ]
  },
  {
   "cell_type": "code",
   "execution_count": 1522,
   "metadata": {},
   "outputs": [
    {
     "data": {
      "text/plain": [
       "Gender                             2\n",
       "Scholarship                        2\n",
       "Hipertension                       2\n",
       "Alcoholism                         2\n",
       "Handcap                            5\n",
       "SMS_received                       2\n",
       "giorniAlAppuntamentoCategorical    4\n",
       "AgeCategorical                     5\n",
       "dtype: int64"
      ]
     },
     "execution_count": 1522,
     "metadata": {},
     "output_type": "execute_result"
    }
   ],
   "source": [
    "label_encoder = LabelEncoder()\n",
    "label_X_train = X_train\n",
    "label_X_test = X_test\n",
    "categorical_cols = set(['Gender','giorniAlAppuntamentoCategorical','AgeCategorical'])\n",
    "for col in categorical_cols:\n",
    "    label_X_train[col] = label_encoder.fit_transform(label_X_train[col])\n",
    "    for ind in X_test[col].index:\n",
    "        if not X_test[col][ind] in label_encoder.classes_:\n",
    "            X_test[col][ind] = 'other'\n",
    "    label_encoder.classes_ = np.append(label_encoder.classes_,'other')    \n",
    "    label_X_test[col] = label_encoder.transform(label_X_test[col])\n",
    "label_X_train.nunique()"
   ]
  },
  {
   "cell_type": "markdown",
   "metadata": {},
   "source": [
    "Ho messo un controllo sui valori categorici encoded in modo che se dovessero apparire \"unseen label\" non viene lanciato un errore ma semplicemente vengono sostituiti con \"other\" e gli viene messa una label corrispondente a quel gruppo. Non penso sia necessario ma male non fa."
   ]
  },
  {
   "cell_type": "markdown",
   "metadata": {},
   "source": [
    "## 5 Scelta del Modello"
   ]
  },
  {
   "cell_type": "code",
   "execution_count": 1523,
   "metadata": {},
   "outputs": [],
   "source": [
    "rf = RandomForestClassifier(random_state = 1)\n",
    "rf.fit(label_X_train, y_train)\n",
    "predictions_rf = rf.predict(label_X_test)\n",
    "\n",
    "dt = DecisionTreeClassifier(random_state = 1)\n",
    "dt.fit(label_X_train, y_train)\n",
    "predictions_dt = dt.predict(label_X_test)\n",
    "\n",
    "lr = LogisticRegression(max_iter = 200)\n",
    "lr.fit(label_X_train, y_train)\n",
    "predictions_lr = lr.predict(label_X_test)\n",
    "\n",
    "knn = KNeighborsClassifier(n_neighbors = 18, n_jobs = -1)\n",
    "knn.fit(label_X_train, y_train)\n",
    "predictions_knn = knn.predict(label_X_test)"
   ]
  },
  {
   "cell_type": "code",
   "execution_count": 1524,
   "metadata": {},
   "outputs": [
    {
     "name": "stdout",
     "output_type": "stream",
     "text": [
      "Validation accuracy random forest:  [0.7968334746960701]\n",
      "Validation accuracy decision tree:  [0.7970596550749223]\n",
      "Validation accuracy logistic regression:  [0.7947413061916879]\n",
      "Validation accuracy KNN:  [0.7970031099802092]\n"
     ]
    }
   ],
   "source": [
    "validation_accuracy_rf = []\n",
    "   \n",
    "validation_accuracy_rf.append(rf.score(label_X_test, y_test))\n",
    "\n",
    "print('Validation accuracy random forest: ', validation_accuracy_rf)\n",
    "\n",
    "validation_accuracy_dt = []\n",
    "   \n",
    "validation_accuracy_dt.append(dt.score(label_X_test, y_test))\n",
    "\n",
    "print('Validation accuracy decision tree: ', validation_accuracy_dt)\n",
    "\n",
    "validation_accuracy_lr = []\n",
    "   \n",
    "validation_accuracy_lr.append(lr.score(label_X_test, y_test))\n",
    "\n",
    "print('Validation accuracy logistic regression: ', validation_accuracy_lr)\n",
    "\n",
    "validation_accuracy_knn = []\n",
    "   \n",
    "validation_accuracy_knn.append(knn.score(label_X_test, y_test))\n",
    "\n",
    "print('Validation accuracy KNN: ', validation_accuracy_knn)"
   ]
  },
  {
   "cell_type": "code",
   "execution_count": 1525,
   "metadata": {},
   "outputs": [
    {
     "name": "stdout",
     "output_type": "stream",
     "text": [
      "With neighbor:  10 score:  0.7944585807181227\n",
      "With neighbor:  11 score:  0.7880689850155499\n",
      "With neighbor:  12 score:  0.7962114786542267\n",
      "With neighbor:  13 score:  0.7852417302798982\n",
      "With neighbor:  14 score:  0.7857506361323155\n",
      "With neighbor:  15 score:  0.7854679106587503\n",
      "With neighbor:  16 score:  0.7968900197907831\n",
      "With neighbor:  17 score:  0.7964376590330788\n",
      "With neighbor:  18 score:  0.7970031099802092\n",
      "With neighbor:  19 score:  0.7968900197907831\n",
      "With neighbor:  20 score:  0.7970031099802092\n",
      "With neighbor:  21 score:  0.7968900197907831\n",
      "With neighbor:  22 score:  0.7970031099802092\n",
      "With neighbor:  23 score:  0.7969465648854962\n",
      "With neighbor:  24 score:  0.7970031099802092\n"
     ]
    }
   ],
   "source": [
    "n_neighbors = range(10,25)\n",
    "for n_neighbor in n_neighbors:\n",
    "    model = KNeighborsClassifier(n_neighbors = n_neighbor,n_jobs = -1)\n",
    "    model.fit(label_X_train, y_train)\n",
    "    score = model.score(label_X_test, y_test)\n",
    "    print('With neighbor: ', n_neighbor, 'score: ', score)"
   ]
  },
  {
   "cell_type": "code",
   "execution_count": 1526,
   "metadata": {},
   "outputs": [
    {
     "data": {
      "text/plain": [
       "2.8284271247461903"
      ]
     },
     "execution_count": 1526,
     "metadata": {},
     "output_type": "execute_result"
    }
   ],
   "source": [
    "n_features = len(label_X_train.columns)\n",
    "max_features = np.sqrt(n_features)\n",
    "max_features"
   ]
  },
  {
   "cell_type": "code",
   "execution_count": 1527,
   "metadata": {},
   "outputs": [
    {
     "name": "stdout",
     "output_type": "stream",
     "text": [
      "With depth:  2 score:  0.7968334746960701\n",
      "With depth:  3 score:  0.7968900197907831\n",
      "With depth:  4 score:  0.7968900197907831\n"
     ]
    }
   ],
   "source": [
    "max_features = [2,3,4]\n",
    "\n",
    "for max_feature in max_features:\n",
    "    model = RandomForestClassifier(random_state = 1, max_features = max_feature)\n",
    "    model.fit(label_X_train, y_train)\n",
    "    score = model.score(label_X_test, y_test)\n",
    "    print('With depth: ', max_feature, 'score: ', score)"
   ]
  },
  {
   "cell_type": "code",
   "execution_count": 1528,
   "metadata": {},
   "outputs": [
    {
     "name": "stdout",
     "output_type": "stream",
     "text": [
      "With estimator:  50 score:  0.7968334746960701\n",
      "With estimator:  100 score:  0.7968334746960701\n",
      "With estimator:  150 score:  0.7968900197907831\n",
      "With estimator:  200 score:  0.7968900197907831\n",
      "With estimator:  230 score:  0.7969465648854962\n",
      "With estimator:  250 score:  0.7969465648854962\n"
     ]
    }
   ],
   "source": [
    "estimators = [50,100,150,200,230,250]\n",
    "\n",
    "for estimator in estimators:\n",
    "    model = RandomForestClassifier(random_state = 1, max_features = 2, n_estimators = estimator)\n",
    "    model.fit(label_X_train, y_train)\n",
    "    score = model.score(label_X_test, y_test)\n",
    "    print('With estimator: ', estimator, 'score: ', score)"
   ]
  },
  {
   "cell_type": "code",
   "execution_count": 1529,
   "metadata": {},
   "outputs": [
    {
     "data": {
      "image/png": "[encoded data removed]",
      "text/plain": [
       "<Figure size 864x432 with 4 Axes>"
      ]
     },
     "metadata": {
      "needs_background": "light"
     },
     "output_type": "display_data"
    }
   ],
   "source": [
    "confusion_matrix= metrics.confusion_matrix(y_test, predictions_knn)\n",
    "\n",
    "plt.figure(figsize=(12,6))\n",
    "\n",
    "plt.suptitle(\"Confusion Matrix\",fontsize=20)\n",
    "\n",
    "plt.subplot(2,2,1)\n",
    "plt.title(\"KNN Confusion Matrix\")\n",
    "sns.heatmap(confusion_matrix, cbar=False,annot=True,cmap=\"Pastel1_r\",fmt=\"d\")\n",
    "\n",
    "confusion_matrix= metrics.confusion_matrix(y_test, predictions_rf)\n",
    "\n",
    "plt.subplot(2,2,2)\n",
    "plt.title(\"Random Forest Confusion Matrix\")\n",
    "sns.heatmap(confusion_matrix, cbar=False,annot=True,cmap=\"Pastel1_r\",fmt=\"d\")\n",
    "\n",
    "confusion_matrix= metrics.confusion_matrix(y_test, predictions_lr)\n",
    "\n",
    "plt.subplot(2,2,3)\n",
    "plt.title(\"Logistic Regression Confusion Matrix\")\n",
    "sns.heatmap(confusion_matrix, cbar=False,annot=True,cmap=\"Pastel1_r\",fmt=\"d\")\n",
    "\n",
    "confusion_matrix= metrics.confusion_matrix(y_test, predictions_dt)\n",
    "plt.subplot(2,2,4)\n",
    "plt.title(\"Decision Tree Confusion Matrix\")\n",
    "sns.heatmap(confusion_matrix, cbar=False,annot=True,cmap=\"Pastel1_r\",fmt=\"d\")\n",
    "\n",
    "plt.show()"
   ]
  },
  {
   "cell_type": "markdown",
   "metadata": {},
   "source": [
    "## 5.1 Commenti"
   ]
  },
  {
   "cell_type": "markdown",
   "metadata": {},
   "source": [
    "Il dataset non si è rivelato per nulla semplice. Non sono riuscito a trovare una significativa correlazione tra le features. Ho provato ad usarle tutte inizialmente prima di fare le modifiche (droppando solo gli ID) ma nessun modello riusciva ad avere un'accuracy elevata (a parte la logistic regression che rispondeva sempre no al problema). Dopo numerosi tentativi di feature engineering e tweaking dei parametri dei modelli sono riuscito a raggiungere un risultato che per lo meno performa meglio del rispondere semplicemente \"no\" (seppur veramente in maniera irrisoria) sia con i DecisionTree che con il KNN. Visti i migliori risultati costanti in tutte le prove ho scelto il DecisionTree come modello finale anche se sono ben consapevole che un modello che ha un accuracy sul validation quasi identica alla distribuzione del target con la frequenza del valore più alto è praticamente inutile (continua a predire per la maggior parte delle volte \"no\"). Spero che posssa comunque apprezzare i miei sforzi, sinceramente non so che altro fare per migliorare. Ho provato tutto questo per evitare di consegnare una semplice regressione logistica che rispondesse sempre e solo \"no\"."
   ]
  },
  {
   "cell_type": "markdown",
   "metadata": {},
   "source": [
    "## 6 Scelta del modello finale e stampa dell'Accuracy"
   ]
  },
  {
   "cell_type": "markdown",
   "metadata": {},
   "source": [
    "### 6.1 DecisionTreeClassifier"
   ]
  },
  {
   "cell_type": "code",
   "execution_count": 1536,
   "metadata": {},
   "outputs": [],
   "source": [
    "dt = DecisionTreeClassifier(random_state = 1)\n",
    "dt.fit(label_X_train, y_train)\n",
    "predictions_final = dt.predict(label_X_test)"
   ]
  },
  {
   "cell_type": "code",
   "execution_count": 1537,
   "metadata": {},
   "outputs": [
    {
     "data": {
      "image/png": "[encoded data removed]",
      "text/plain": [
       "<Figure size 720x360 with 1 Axes>"
      ]
     },
     "metadata": {
      "needs_background": "light"
     },
     "output_type": "display_data"
    }
   ],
   "source": [
    "confusion_matrix= metrics.confusion_matrix(y_test, predictions_final)\n",
    "\n",
    "plt.figure(figsize=(10,5))\n",
    "\n",
    "plt.suptitle(\"Confusion Matrix Final Model\",fontsize=20)\n",
    "\n",
    "plt.subplot(1,1,1)\n",
    "plt.title(\"Decision Tree Confusion Matrix\")\n",
    "sns.heatmap(confusion_matrix, cbar=False,annot=True,cmap=\"Pastel1_r\",fmt=\"d\")\n",
    "plt.show()"
   ]
  },
  {
   "cell_type": "markdown",
   "metadata": {},
   "source": [
    "### 6.2 Accuracy"
   ]
  },
  {
   "cell_type": "code",
   "execution_count": 1539,
   "metadata": {},
   "outputs": [
    {
     "name": "stdout",
     "output_type": "stream",
     "text": [
      "Accuracy modello finale:  [0.7970596550749223]\n"
     ]
    }
   ],
   "source": [
    "validation_accuracy_dt = []\n",
    "   \n",
    "validation_accuracy_dt.append(dt.score(label_X_test, y_test))\n",
    "\n",
    "print('Accuracy modello finale: ', validation_accuracy_dt)"
   ]
  },
  {
   "cell_type": "code",
   "execution_count": null,
   "metadata": {},
   "outputs": [],
   "source": []
  }
 ],
 "metadata": {
  "kernelspec": {
   "display_name": "Python 3",
   "language": "python",
   "name": "python3"
  },
  "language_info": {
   "codemirror_mode": {
    "name": "ipython",
    "version": 3
   },
   "file_extension": ".py",
   "mimetype": "text/x-python",
   "name": "python",
   "nbconvert_exporter": "python",
   "pygments_lexer": "ipython3",
   "version": "3.7.6"
  }
 },
 "nbformat": 4,
 "nbformat_minor": 4
}
