{
 "cells": [
  {
   "cell_type": "markdown",
   "metadata": {},
   "source": [
    "# Notebook di preparazione"
   ]
  },
  {
   "cell_type": "markdown",
   "metadata": {},
   "source": [
    "Do giusto un'occhiata veloce al dataset e effettuo il train_test_split con scrittura dei due dati come richiesto."
   ]
  },
  {
   "cell_type": "code",
   "execution_count": 11,
   "metadata": {},
   "outputs": [
    {
     "name": "stdout",
     "output_type": "stream",
     "text": [
      "Requirement already satisfied: attrs==19.3.0 in /home/mattia/anaconda3/lib/python3.7/site-packages (from -r requirements.txt (line 1)) (19.3.0)\n",
      "Requirement already satisfied: backcall==0.1.0 in /home/mattia/anaconda3/lib/python3.7/site-packages (from -r requirements.txt (line 2)) (0.1.0)\n",
      "Requirement already satisfied: bleach==3.1.4 in /home/mattia/anaconda3/lib/python3.7/site-packages (from -r requirements.txt (line 3)) (3.1.4)\n",
      "Requirement already satisfied: certifi==2020.4.5.1 in /home/mattia/anaconda3/lib/python3.7/site-packages (from -r requirements.txt (line 4)) (2020.4.5.1)\n",
      "Requirement already satisfied: decorator==4.4.2 in /home/mattia/anaconda3/lib/python3.7/site-packages (from -r requirements.txt (line 5)) (4.4.2)\n",
      "Requirement already satisfied: defusedxml==0.6.0 in /home/mattia/anaconda3/lib/python3.7/site-packages (from -r requirements.txt (line 6)) (0.6.0)\n",
      "Requirement already satisfied: entrypoints==0.3 in /home/mattia/anaconda3/lib/python3.7/site-packages (from -r requirements.txt (line 7)) (0.3)\n",
      "Requirement already satisfied: importlib-metadata==1.6.0 in /home/mattia/anaconda3/lib/python3.7/site-packages (from -r requirements.txt (line 8)) (1.6.0)\n",
      "Requirement already satisfied: ipykernel==5.1.4 in /home/mattia/anaconda3/lib/python3.7/site-packages (from -r requirements.txt (line 9)) (5.1.4)\n",
      "Requirement already satisfied: ipython==7.13.0 in /home/mattia/anaconda3/lib/python3.7/site-packages (from -r requirements.txt (line 10)) (7.13.0)\n",
      "Requirement already satisfied: ipython-genutils==0.2.0 in /home/mattia/anaconda3/lib/python3.7/site-packages (from -r requirements.txt (line 11)) (0.2.0)\n",
      "Requirement already satisfied: jedi==0.17.0 in /home/mattia/anaconda3/lib/python3.7/site-packages (from -r requirements.txt (line 12)) (0.17.0)\n",
      "Requirement already satisfied: Jinja2==2.11.2 in /home/mattia/anaconda3/lib/python3.7/site-packages (from -r requirements.txt (line 13)) (2.11.2)\n",
      "Requirement already satisfied: jsonschema==3.2.0 in /home/mattia/anaconda3/lib/python3.7/site-packages (from -r requirements.txt (line 14)) (3.2.0)\n",
      "Requirement already satisfied: jupyter-client==6.1.3 in /home/mattia/anaconda3/lib/python3.7/site-packages (from -r requirements.txt (line 15)) (6.1.3)\n",
      "Requirement already satisfied: jupyter-core==4.6.3 in /home/mattia/anaconda3/lib/python3.7/site-packages (from -r requirements.txt (line 16)) (4.6.3)\n",
      "Requirement already satisfied: MarkupSafe==1.1.1 in /home/mattia/anaconda3/lib/python3.7/site-packages (from -r requirements.txt (line 17)) (1.1.1)\n",
      "Requirement already satisfied: mistune==0.8.4 in /home/mattia/anaconda3/lib/python3.7/site-packages (from -r requirements.txt (line 18)) (0.8.4)\n",
      "Requirement already satisfied: nbconvert==5.6.1 in /home/mattia/anaconda3/lib/python3.7/site-packages (from -r requirements.txt (line 19)) (5.6.1)\n",
      "Requirement already satisfied: nbformat==5.0.6 in /home/mattia/anaconda3/lib/python3.7/site-packages (from -r requirements.txt (line 20)) (5.0.6)\n",
      "Requirement already satisfied: notebook==6.0.3 in /home/mattia/anaconda3/lib/python3.7/site-packages (from -r requirements.txt (line 21)) (6.0.3)\n",
      "Requirement already satisfied: pandocfilters==1.4.2 in /home/mattia/anaconda3/lib/python3.7/site-packages (from -r requirements.txt (line 22)) (1.4.2)\n",
      "Requirement already satisfied: parso==0.7.0 in /home/mattia/anaconda3/lib/python3.7/site-packages (from -r requirements.txt (line 23)) (0.7.0)\n",
      "Requirement already satisfied: pexpect==4.8.0 in /home/mattia/anaconda3/lib/python3.7/site-packages (from -r requirements.txt (line 24)) (4.8.0)\n",
      "Requirement already satisfied: pickleshare==0.7.5 in /home/mattia/anaconda3/lib/python3.7/site-packages (from -r requirements.txt (line 25)) (0.7.5)\n",
      "Requirement already satisfied: prometheus-client==0.7.1 in /home/mattia/anaconda3/lib/python3.7/site-packages (from -r requirements.txt (line 26)) (0.7.1)\n",
      "Requirement already satisfied: prompt-toolkit==3.0.5 in /home/mattia/anaconda3/lib/python3.7/site-packages (from -r requirements.txt (line 27)) (3.0.5)\n",
      "Requirement already satisfied: ptyprocess==0.6.0 in /home/mattia/anaconda3/lib/python3.7/site-packages (from -r requirements.txt (line 28)) (0.6.0)\n",
      "Requirement already satisfied: Pygments==2.6.1 in /home/mattia/anaconda3/lib/python3.7/site-packages (from -r requirements.txt (line 29)) (2.6.1)\n",
      "Requirement already satisfied: pyrsistent==0.16.0 in /home/mattia/anaconda3/lib/python3.7/site-packages (from -r requirements.txt (line 30)) (0.16.0)\n",
      "Requirement already satisfied: python-dateutil==2.8.1 in /home/mattia/anaconda3/lib/python3.7/site-packages (from -r requirements.txt (line 31)) (2.8.1)\n",
      "Requirement already satisfied: pyzmq==18.1.1 in /home/mattia/anaconda3/lib/python3.7/site-packages (from -r requirements.txt (line 32)) (18.1.1)\n",
      "Requirement already satisfied: Send2Trash==1.5.0 in /home/mattia/anaconda3/lib/python3.7/site-packages (from -r requirements.txt (line 33)) (1.5.0)\n",
      "Requirement already satisfied: six==1.15.0 in /home/mattia/anaconda3/lib/python3.7/site-packages (from -r requirements.txt (line 34)) (1.15.0)\n",
      "Requirement already satisfied: terminado==0.8.3 in /home/mattia/anaconda3/lib/python3.7/site-packages (from -r requirements.txt (line 35)) (0.8.3)\n",
      "Requirement already satisfied: testpath==0.4.4 in /home/mattia/anaconda3/lib/python3.7/site-packages (from -r requirements.txt (line 36)) (0.4.4)\n",
      "Requirement already satisfied: tornado==6.0.4 in /home/mattia/anaconda3/lib/python3.7/site-packages (from -r requirements.txt (line 37)) (6.0.4)\n",
      "Requirement already satisfied: traitlets==4.3.3 in /home/mattia/anaconda3/lib/python3.7/site-packages (from -r requirements.txt (line 38)) (4.3.3)\n",
      "Requirement already satisfied: wcwidth==0.1.9 in /home/mattia/anaconda3/lib/python3.7/site-packages (from -r requirements.txt (line 39)) (0.1.9)\n",
      "Requirement already satisfied: webencodings==0.5.1 in /home/mattia/anaconda3/lib/python3.7/site-packages (from -r requirements.txt (line 40)) (0.5.1)\n",
      "Requirement already satisfied: zipp==3.1.0 in /home/mattia/anaconda3/lib/python3.7/site-packages (from -r requirements.txt (line 41)) (3.1.0)\n",
      "Requirement already satisfied: setuptools>=18.5 in /home/mattia/anaconda3/lib/python3.7/site-packages (from ipython==7.13.0->-r requirements.txt (line 10)) (45.2.0.post20200210)\n"
     ]
    }
   ],
   "source": [
    "!pip install -r requirements.txt"
   ]
  },
  {
   "cell_type": "code",
   "execution_count": 12,
   "metadata": {},
   "outputs": [],
   "source": [
    "import pandas as pd\n",
    "from sklearn.model_selection import train_test_split\n",
    "import matplotlib.pyplot as plt \n",
    "import seaborn as sns"
   ]
  },
  {
   "cell_type": "code",
   "execution_count": 13,
   "metadata": {},
   "outputs": [
    {
     "data": {
      "text/plain": [
       "No-show            object\n",
       "PatientId         float64\n",
       "AppointmentID       int64\n",
       "Gender             object\n",
       "ScheduledDay       object\n",
       "AppointmentDay     object\n",
       "Age                 int64\n",
       "Neighbourhood      object\n",
       "Scholarship         int64\n",
       "Hipertension        int64\n",
       "Diabetes            int64\n",
       "Alcoholism          int64\n",
       "Handcap             int64\n",
       "SMS_received        int64\n",
       "dtype: object"
      ]
     },
     "execution_count": 13,
     "metadata": {},
     "output_type": "execute_result"
    }
   ],
   "source": [
    "path_file = './appointment_data.csv'\n",
    "data = pd.read_csv(path_file)\n",
    "data.head()\n",
    "data_copy = data.copy()\n",
    "data_copy.dtypes"
   ]
  },
  {
   "cell_type": "code",
   "execution_count": 14,
   "metadata": {},
   "outputs": [
    {
     "name": "stdout",
     "output_type": "stream",
     "text": [
      "<class 'pandas.core.frame.DataFrame'>\n",
      "RangeIndex: 88421 entries, 0 to 88420\n",
      "Data columns (total 14 columns):\n",
      " #   Column          Non-Null Count  Dtype  \n",
      "---  ------          --------------  -----  \n",
      " 0   No-show         88421 non-null  object \n",
      " 1   PatientId       88421 non-null  float64\n",
      " 2   AppointmentID   88421 non-null  int64  \n",
      " 3   Gender          88421 non-null  object \n",
      " 4   ScheduledDay    88421 non-null  object \n",
      " 5   AppointmentDay  88421 non-null  object \n",
      " 6   Age             88421 non-null  int64  \n",
      " 7   Neighbourhood   88421 non-null  object \n",
      " 8   Scholarship     88421 non-null  int64  \n",
      " 9   Hipertension    88421 non-null  int64  \n",
      " 10  Diabetes        88421 non-null  int64  \n",
      " 11  Alcoholism      88421 non-null  int64  \n",
      " 12  Handcap         88421 non-null  int64  \n",
      " 13  SMS_received    88421 non-null  int64  \n",
      "dtypes: float64(1), int64(8), object(5)\n",
      "memory usage: 9.4+ MB\n"
     ]
    }
   ],
   "source": [
    "data_copy.info()"
   ]
  },
  {
   "cell_type": "code",
   "execution_count": 15,
   "metadata": {},
   "outputs": [
    {
     "data": {
      "text/html": [
       "<div>\n",
       "<style scoped>\n",
       "    .dataframe tbody tr th:only-of-type {\n",
       "        vertical-align: middle;\n",
       "    }\n",
       "\n",
       "    .dataframe tbody tr th {\n",
       "        vertical-align: top;\n",
       "    }\n",
       "\n",
       "    .dataframe thead th {\n",
       "        text-align: right;\n",
       "    }\n",
       "</style>\n",
       "<table border=\"1\" class=\"dataframe\">\n",
       "  <thead>\n",
       "    <tr style=\"text-align: right;\">\n",
       "      <th></th>\n",
       "      <th>PatientId</th>\n",
       "      <th>AppointmentID</th>\n",
       "      <th>Age</th>\n",
       "      <th>Scholarship</th>\n",
       "      <th>Hipertension</th>\n",
       "      <th>Diabetes</th>\n",
       "      <th>Alcoholism</th>\n",
       "      <th>Handcap</th>\n",
       "      <th>SMS_received</th>\n",
       "    </tr>\n",
       "  </thead>\n",
       "  <tbody>\n",
       "    <tr>\n",
       "      <th>count</th>\n",
       "      <td>8.842100e+04</td>\n",
       "      <td>8.842100e+04</td>\n",
       "      <td>88421.000000</td>\n",
       "      <td>88421.000000</td>\n",
       "      <td>88421.000000</td>\n",
       "      <td>88421.000000</td>\n",
       "      <td>88421.000000</td>\n",
       "      <td>88421.000000</td>\n",
       "      <td>88421.000000</td>\n",
       "    </tr>\n",
       "    <tr>\n",
       "      <th>mean</th>\n",
       "      <td>1.484798e+14</td>\n",
       "      <td>5.675391e+06</td>\n",
       "      <td>37.124631</td>\n",
       "      <td>0.099230</td>\n",
       "      <td>0.198064</td>\n",
       "      <td>0.072324</td>\n",
       "      <td>0.030638</td>\n",
       "      <td>0.022393</td>\n",
       "      <td>0.321553</td>\n",
       "    </tr>\n",
       "    <tr>\n",
       "      <th>std</th>\n",
       "      <td>2.570830e+14</td>\n",
       "      <td>7.133018e+04</td>\n",
       "      <td>23.104321</td>\n",
       "      <td>0.298972</td>\n",
       "      <td>0.398543</td>\n",
       "      <td>0.259026</td>\n",
       "      <td>0.172335</td>\n",
       "      <td>0.162529</td>\n",
       "      <td>0.467075</td>\n",
       "    </tr>\n",
       "    <tr>\n",
       "      <th>min</th>\n",
       "      <td>3.921784e+04</td>\n",
       "      <td>5.030230e+06</td>\n",
       "      <td>0.000000</td>\n",
       "      <td>0.000000</td>\n",
       "      <td>0.000000</td>\n",
       "      <td>0.000000</td>\n",
       "      <td>0.000000</td>\n",
       "      <td>0.000000</td>\n",
       "      <td>0.000000</td>\n",
       "    </tr>\n",
       "    <tr>\n",
       "      <th>25%</th>\n",
       "      <td>4.166843e+12</td>\n",
       "      <td>5.640477e+06</td>\n",
       "      <td>18.000000</td>\n",
       "      <td>0.000000</td>\n",
       "      <td>0.000000</td>\n",
       "      <td>0.000000</td>\n",
       "      <td>0.000000</td>\n",
       "      <td>0.000000</td>\n",
       "      <td>0.000000</td>\n",
       "    </tr>\n",
       "    <tr>\n",
       "      <th>50%</th>\n",
       "      <td>3.212196e+13</td>\n",
       "      <td>5.680756e+06</td>\n",
       "      <td>37.000000</td>\n",
       "      <td>0.000000</td>\n",
       "      <td>0.000000</td>\n",
       "      <td>0.000000</td>\n",
       "      <td>0.000000</td>\n",
       "      <td>0.000000</td>\n",
       "      <td>0.000000</td>\n",
       "    </tr>\n",
       "    <tr>\n",
       "      <th>75%</th>\n",
       "      <td>9.464814e+13</td>\n",
       "      <td>5.725565e+06</td>\n",
       "      <td>55.000000</td>\n",
       "      <td>0.000000</td>\n",
       "      <td>0.000000</td>\n",
       "      <td>0.000000</td>\n",
       "      <td>0.000000</td>\n",
       "      <td>0.000000</td>\n",
       "      <td>1.000000</td>\n",
       "    </tr>\n",
       "    <tr>\n",
       "      <th>max</th>\n",
       "      <td>9.999816e+14</td>\n",
       "      <td>5.790481e+06</td>\n",
       "      <td>115.000000</td>\n",
       "      <td>1.000000</td>\n",
       "      <td>1.000000</td>\n",
       "      <td>1.000000</td>\n",
       "      <td>1.000000</td>\n",
       "      <td>4.000000</td>\n",
       "      <td>1.000000</td>\n",
       "    </tr>\n",
       "  </tbody>\n",
       "</table>\n",
       "</div>"
      ],
      "text/plain": [
       "          PatientId  AppointmentID           Age   Scholarship  Hipertension  \\\n",
       "count  8.842100e+04   8.842100e+04  88421.000000  88421.000000  88421.000000   \n",
       "mean   1.484798e+14   5.675391e+06     37.124631      0.099230      0.198064   \n",
       "std    2.570830e+14   7.133018e+04     23.104321      0.298972      0.398543   \n",
       "min    3.921784e+04   5.030230e+06      0.000000      0.000000      0.000000   \n",
       "25%    4.166843e+12   5.640477e+06     18.000000      0.000000      0.000000   \n",
       "50%    3.212196e+13   5.680756e+06     37.000000      0.000000      0.000000   \n",
       "75%    9.464814e+13   5.725565e+06     55.000000      0.000000      0.000000   \n",
       "max    9.999816e+14   5.790481e+06    115.000000      1.000000      1.000000   \n",
       "\n",
       "           Diabetes    Alcoholism       Handcap  SMS_received  \n",
       "count  88421.000000  88421.000000  88421.000000  88421.000000  \n",
       "mean       0.072324      0.030638      0.022393      0.321553  \n",
       "std        0.259026      0.172335      0.162529      0.467075  \n",
       "min        0.000000      0.000000      0.000000      0.000000  \n",
       "25%        0.000000      0.000000      0.000000      0.000000  \n",
       "50%        0.000000      0.000000      0.000000      0.000000  \n",
       "75%        0.000000      0.000000      0.000000      1.000000  \n",
       "max        1.000000      1.000000      4.000000      1.000000  "
      ]
     },
     "execution_count": 15,
     "metadata": {},
     "output_type": "execute_result"
    }
   ],
   "source": [
    "data_copy.describe()"
   ]
  },
  {
   "cell_type": "markdown",
   "metadata": {},
   "source": [
    "## Split e scrittura su file"
   ]
  },
  {
   "cell_type": "code",
   "execution_count": 16,
   "metadata": {},
   "outputs": [],
   "source": [
    "y = data_copy['No-show']\n",
    "X = data_copy.drop(['No-show'], axis = 1)\n",
    "X_train, X_test, y_train, y_test = train_test_split(X, y,test_size = 0.2, random_state = 1)\n",
    "train_data = pd.concat([X_train, y_train], axis = 1)\n",
    "test_data = pd.concat([X_test, y_test], axis = 1)\n",
    "train_data.to_csv('./train.csv', index = False)\n",
    "test_data.to_csv('./test.csv', index = False)"
   ]
  },
  {
   "cell_type": "code",
   "execution_count": null,
   "metadata": {},
   "outputs": [],
   "source": []
  }
 ],
 "metadata": {
  "kernelspec": {
   "display_name": "Python 3",
   "language": "python",
   "name": "python3"
  },
  "language_info": {
   "codemirror_mode": {
    "name": "ipython",
    "version": 3
   },
   "file_extension": ".py",
   "mimetype": "text/x-python",
   "name": "python",
   "nbconvert_exporter": "python",
   "pygments_lexer": "ipython3",
   "version": "3.7.6"
  }
 },
 "nbformat": 4,
 "nbformat_minor": 4
}
